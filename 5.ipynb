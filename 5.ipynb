{
 "cells": [
  {
   "cell_type": "markdown",
   "id": "eb9cbc06-655c-4192-b67d-2e2c039c2f85",
   "metadata": {},
   "source": [
    "QuesTion 1\n",
    "Ans - \n",
    "Python was created by Guido van Rossum, a Dutch programmer, in the late 1980s. He released the first version of Python, Python 0.9.0, in February 1991."
   ]
  },
  {
   "cell_type": "markdown",
   "id": "f6009938-9809-4277-b8c8-a3f9a0c3d239",
   "metadata": {},
   "source": [
    "Question -2 .\n",
    "Ans- Python is a versatile programming language that supports multiple programming paradigms, including:\n",
    "\n",
    "1. Procedural Programming: Python allows you to write programs using procedural programming techniques, where you organize code into procedures or functions that perform specific tasks.\n",
    "\n",
    "2. Object-Oriented Programming (OOP): Python supports object-oriented programming, allowing you to create classes and objects, encapsulate data, and define methods to manipulate that data.\n",
    "\n",
    "3. Functional Programming: Python includes features that support functional programming, such as first-class functions, lambda expressions, and functions as arguments or return values.\n",
    "\n",
    "4. Imperative Programming: Python supports imperative programming, where you define a series of statements that change the program's state to accomplish a task.\n",
    "\n",
    "5. Dynamic Typing: Python is dynamically typed, meaning you don't need to declare the type of variables explicitly; the interpreter infers the type based on the value assigned to them."
   ]
  },
  {
   "cell_type": "markdown",
   "id": "e7e511fb-2a7a-4a99-9566-02bea2b208a1",
   "metadata": {},
   "source": [
    "Question -3. \n",
    "Ans - Yes, Python is case-sensitive when dealing with identifiers. This means that identifiers such as variable names, function names, class names, etc., must be typed consistently with the same case throughout your code. Python considers identifiers with different cases as different entities."
   ]
  },
  {
   "cell_type": "markdown",
   "id": "8576013a-daa6-4f22-b176-cbae08a824ce",
   "metadata": {},
   "source": [
    "Question -4 \n",
    "Ans- The standard and most commonly used extension for Python files is .py. So, if you're saving a Python script, you would typically save it with a .py extension. For example, script.py is a typical filename for a Python script.\n",
    "\n"
   ]
  },
  {
   "cell_type": "markdown",
   "id": "1bf7b27d-33b8-4b5b-b65e-743ec8c7ca48",
   "metadata": {},
   "source": [
    "Question -5 \n",
    "Ans - \n",
    "Python is generally considered an interpreted language, but it's a bit more nuanced than that. Here's why:\n",
    "\n",
    "Interpreted Language: Python code is executed line by line by the Python interpreter. This means that you can write Python code and execute it without explicitly compiling it into machine code beforehand. The Python interpreter reads the code, parses it, and executes it directly.\n",
    "\n",
    "Bytecode Compilation: However, Python does involve a form of compilation. When you run a Python script or module, the Python interpreter first compiles the source code into bytecode. This bytecode is a low-level platform-independent representation of the source code. The bytecode is then executed by the Python virtual machine (PVM)."
   ]
  },
  {
   "cell_type": "markdown",
   "id": "6b1726d0-8d21-4c0c-932b-a07e8fbcaf67",
   "metadata": {},
   "source": [
    "Question-6 \n",
    "Ans - \n",
    "In Python, \"blocks\" of code are typically defined by indentation. Here are a few examples of blocks of code in Python:"
   ]
  },
  {
   "cell_type": "code",
   "execution_count": 4,
   "id": "7be39b32-76df-47b4-bccd-feaa886bb431",
   "metadata": {},
   "outputs": [
    {
     "name": "stdout",
     "output_type": "stream",
     "text": [
      "Hello, World!\n",
      "This is inside the function\n"
     ]
    }
   ],
   "source": [
    "def my_function():\n",
    "    # This is a block of code inside the function\n",
    "    print(\"Hello, World!\")\n",
    "    print(\"This is inside the function\")\n",
    "my_function()"
   ]
  },
  {
   "cell_type": "code",
   "execution_count": 3,
   "id": "8b0ec4a0-8f7e-4f26-bdf1-43b5ace982d9",
   "metadata": {},
   "outputs": [
    {
     "name": "stdout",
     "output_type": "stream",
     "text": [
      "x is greater than 5\n"
     ]
    }
   ],
   "source": [
    "x = 10\n",
    "if x > 5:\n",
    "    # This block will execute if the condition is true\n",
    "    print(\"x is greater than 5\")\n",
    "else:\n",
    "    # This block will execute if the condition is false\n",
    "    print(\"x is not greater than 5\")"
   ]
  },
  {
   "cell_type": "markdown",
   "id": "f0df4d62-93ab-4c63-87e2-dc424ffe4c97",
   "metadata": {},
   "source": [
    "Question 7 \n",
    "Ans- pip is the package installer for Python. The name \"pip\" itself doesn't actually stand for anything recursive, unlike many other Unix-related acronyms. It's simply a package installer for Python, allowing users to install and manage software packages written in Python."
   ]
  },
  {
   "cell_type": "markdown",
   "id": "7fb5af3e-2470-435e-b1ba-64c42faa32c5",
   "metadata": {},
   "source": [
    "Question - 8\n",
    "Ans - 1. print(): Used to print output to the console.\n",
    "2. len(): Returns the length (number of items) of an object.\n",
    "3. input(): Reads input from the user via the console.\n",
    "4. range(): Generates a sequence of numbers.\n",
    "4. type(): Returns the type of an object.\n",
    "5. str(): Converts an object into a string.\n",
    "6. int(): Converts a string or number to an integer.\n",
    "7. float(): Converts a string or number to a floating-point number.\n",
    "8. list(): Creates a list from an iterable.\n",
    "9. dict(): Creates a dictionary from an iterable of key-value pairs.\n",
    "10. These are just a few examples of the many built-in functions available in Python."
   ]
  },
  {
   "cell_type": "code",
   "execution_count": null,
   "id": "c483fbf6-20c5-4e5d-9021-8cef7f62128a",
   "metadata": {},
   "outputs": [],
   "source": [
    "Question -9\n",
    "Ans - "
   ]
  }
 ],
 "metadata": {
  "kernelspec": {
   "display_name": "Python 3 (ipykernel)",
   "language": "python",
   "name": "python3"
  },
  "language_info": {
   "codemirror_mode": {
    "name": "ipython",
    "version": 3
   },
   "file_extension": ".py",
   "mimetype": "text/x-python",
   "name": "python",
   "nbconvert_exporter": "python",
   "pygments_lexer": "ipython3",
   "version": "3.10.8"
  }
 },
 "nbformat": 4,
 "nbformat_minor": 5
}
